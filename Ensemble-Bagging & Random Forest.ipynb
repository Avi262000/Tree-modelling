{
 "cells": [
  {
   "cell_type": "markdown",
   "id": "b8d03562",
   "metadata": {},
   "source": [
    "# Bagging & Random forest"
   ]
  },
  {
   "cell_type": "markdown",
   "id": "510fdf6d",
   "metadata": {},
   "source": [
    "## Bagging"
   ]
  },
  {
   "cell_type": "code",
   "execution_count": 1,
   "id": "3578f27a",
   "metadata": {},
   "outputs": [],
   "source": [
    "# Importing the libraries\n",
    "import numpy as np\n",
    "import pandas as pd\n",
    "import matplotlib.pyplot as plt\n",
    "%matplotlib inline"
   ]
  },
  {
   "cell_type": "code",
   "execution_count": 2,
   "id": "c30cd764",
   "metadata": {},
   "outputs": [],
   "source": [
    "# Loading the dataset\n",
    "data = pd.read_csv('data_cleaned.csv')"
   ]
  },
  {
   "cell_type": "markdown",
   "id": "46c6bf35",
   "metadata": {},
   "source": [
    "### EDA"
   ]
  },
  {
   "cell_type": "code",
   "execution_count": 3,
   "id": "34e4e31a",
   "metadata": {},
   "outputs": [
    {
     "data": {
      "text/html": [
       "<div>\n",
       "<style scoped>\n",
       "    .dataframe tbody tr th:only-of-type {\n",
       "        vertical-align: middle;\n",
       "    }\n",
       "\n",
       "    .dataframe tbody tr th {\n",
       "        vertical-align: top;\n",
       "    }\n",
       "\n",
       "    .dataframe thead th {\n",
       "        text-align: right;\n",
       "    }\n",
       "</style>\n",
       "<table border=\"1\" class=\"dataframe\">\n",
       "  <thead>\n",
       "    <tr style=\"text-align: right;\">\n",
       "      <th></th>\n",
       "      <th>Survived</th>\n",
       "      <th>Age</th>\n",
       "      <th>Fare</th>\n",
       "      <th>Pclass_1</th>\n",
       "      <th>Pclass_2</th>\n",
       "      <th>Pclass_3</th>\n",
       "      <th>Sex_female</th>\n",
       "      <th>Sex_male</th>\n",
       "      <th>SibSp_0</th>\n",
       "      <th>SibSp_1</th>\n",
       "      <th>...</th>\n",
       "      <th>Parch_0</th>\n",
       "      <th>Parch_1</th>\n",
       "      <th>Parch_2</th>\n",
       "      <th>Parch_3</th>\n",
       "      <th>Parch_4</th>\n",
       "      <th>Parch_5</th>\n",
       "      <th>Parch_6</th>\n",
       "      <th>Embarked_C</th>\n",
       "      <th>Embarked_Q</th>\n",
       "      <th>Embarked_S</th>\n",
       "    </tr>\n",
       "  </thead>\n",
       "  <tbody>\n",
       "    <tr>\n",
       "      <th>0</th>\n",
       "      <td>0</td>\n",
       "      <td>22.0</td>\n",
       "      <td>7.2500</td>\n",
       "      <td>0</td>\n",
       "      <td>0</td>\n",
       "      <td>1</td>\n",
       "      <td>0</td>\n",
       "      <td>1</td>\n",
       "      <td>0</td>\n",
       "      <td>1</td>\n",
       "      <td>...</td>\n",
       "      <td>1</td>\n",
       "      <td>0</td>\n",
       "      <td>0</td>\n",
       "      <td>0</td>\n",
       "      <td>0</td>\n",
       "      <td>0</td>\n",
       "      <td>0</td>\n",
       "      <td>0</td>\n",
       "      <td>0</td>\n",
       "      <td>1</td>\n",
       "    </tr>\n",
       "    <tr>\n",
       "      <th>1</th>\n",
       "      <td>1</td>\n",
       "      <td>38.0</td>\n",
       "      <td>71.2833</td>\n",
       "      <td>1</td>\n",
       "      <td>0</td>\n",
       "      <td>0</td>\n",
       "      <td>1</td>\n",
       "      <td>0</td>\n",
       "      <td>0</td>\n",
       "      <td>1</td>\n",
       "      <td>...</td>\n",
       "      <td>1</td>\n",
       "      <td>0</td>\n",
       "      <td>0</td>\n",
       "      <td>0</td>\n",
       "      <td>0</td>\n",
       "      <td>0</td>\n",
       "      <td>0</td>\n",
       "      <td>1</td>\n",
       "      <td>0</td>\n",
       "      <td>0</td>\n",
       "    </tr>\n",
       "    <tr>\n",
       "      <th>2</th>\n",
       "      <td>1</td>\n",
       "      <td>26.0</td>\n",
       "      <td>7.9250</td>\n",
       "      <td>0</td>\n",
       "      <td>0</td>\n",
       "      <td>1</td>\n",
       "      <td>1</td>\n",
       "      <td>0</td>\n",
       "      <td>1</td>\n",
       "      <td>0</td>\n",
       "      <td>...</td>\n",
       "      <td>1</td>\n",
       "      <td>0</td>\n",
       "      <td>0</td>\n",
       "      <td>0</td>\n",
       "      <td>0</td>\n",
       "      <td>0</td>\n",
       "      <td>0</td>\n",
       "      <td>0</td>\n",
       "      <td>0</td>\n",
       "      <td>1</td>\n",
       "    </tr>\n",
       "    <tr>\n",
       "      <th>3</th>\n",
       "      <td>1</td>\n",
       "      <td>35.0</td>\n",
       "      <td>53.1000</td>\n",
       "      <td>1</td>\n",
       "      <td>0</td>\n",
       "      <td>0</td>\n",
       "      <td>1</td>\n",
       "      <td>0</td>\n",
       "      <td>0</td>\n",
       "      <td>1</td>\n",
       "      <td>...</td>\n",
       "      <td>1</td>\n",
       "      <td>0</td>\n",
       "      <td>0</td>\n",
       "      <td>0</td>\n",
       "      <td>0</td>\n",
       "      <td>0</td>\n",
       "      <td>0</td>\n",
       "      <td>0</td>\n",
       "      <td>0</td>\n",
       "      <td>1</td>\n",
       "    </tr>\n",
       "    <tr>\n",
       "      <th>4</th>\n",
       "      <td>0</td>\n",
       "      <td>35.0</td>\n",
       "      <td>8.0500</td>\n",
       "      <td>0</td>\n",
       "      <td>0</td>\n",
       "      <td>1</td>\n",
       "      <td>0</td>\n",
       "      <td>1</td>\n",
       "      <td>1</td>\n",
       "      <td>0</td>\n",
       "      <td>...</td>\n",
       "      <td>1</td>\n",
       "      <td>0</td>\n",
       "      <td>0</td>\n",
       "      <td>0</td>\n",
       "      <td>0</td>\n",
       "      <td>0</td>\n",
       "      <td>0</td>\n",
       "      <td>0</td>\n",
       "      <td>0</td>\n",
       "      <td>1</td>\n",
       "    </tr>\n",
       "  </tbody>\n",
       "</table>\n",
       "<p>5 rows × 25 columns</p>\n",
       "</div>"
      ],
      "text/plain": [
       "   Survived   Age     Fare  Pclass_1  Pclass_2  Pclass_3  Sex_female  \\\n",
       "0         0  22.0   7.2500         0         0         1           0   \n",
       "1         1  38.0  71.2833         1         0         0           1   \n",
       "2         1  26.0   7.9250         0         0         1           1   \n",
       "3         1  35.0  53.1000         1         0         0           1   \n",
       "4         0  35.0   8.0500         0         0         1           0   \n",
       "\n",
       "   Sex_male  SibSp_0  SibSp_1  ...  Parch_0  Parch_1  Parch_2  Parch_3  \\\n",
       "0         1        0        1  ...        1        0        0        0   \n",
       "1         0        0        1  ...        1        0        0        0   \n",
       "2         0        1        0  ...        1        0        0        0   \n",
       "3         0        0        1  ...        1        0        0        0   \n",
       "4         1        1        0  ...        1        0        0        0   \n",
       "\n",
       "   Parch_4  Parch_5  Parch_6  Embarked_C  Embarked_Q  Embarked_S  \n",
       "0        0        0        0           0           0           1  \n",
       "1        0        0        0           1           0           0  \n",
       "2        0        0        0           0           0           1  \n",
       "3        0        0        0           0           0           1  \n",
       "4        0        0        0           0           0           1  \n",
       "\n",
       "[5 rows x 25 columns]"
      ]
     },
     "execution_count": 3,
     "metadata": {},
     "output_type": "execute_result"
    }
   ],
   "source": [
    "data.head()"
   ]
  },
  {
   "cell_type": "code",
   "execution_count": 4,
   "id": "4d6e8c68",
   "metadata": {},
   "outputs": [
    {
     "data": {
      "text/plain": [
       "(891, 25)"
      ]
     },
     "execution_count": 4,
     "metadata": {},
     "output_type": "execute_result"
    }
   ],
   "source": [
    "# Shape\n",
    "data.shape"
   ]
  },
  {
   "cell_type": "code",
   "execution_count": 5,
   "id": "80526e1a",
   "metadata": {},
   "outputs": [
    {
     "data": {
      "text/plain": [
       "Index(['Survived', 'Age', 'Fare', 'Pclass_1', 'Pclass_2', 'Pclass_3',\n",
       "       'Sex_female', 'Sex_male', 'SibSp_0', 'SibSp_1', 'SibSp_2', 'SibSp_3',\n",
       "       'SibSp_4', 'SibSp_5', 'SibSp_8', 'Parch_0', 'Parch_1', 'Parch_2',\n",
       "       'Parch_3', 'Parch_4', 'Parch_5', 'Parch_6', 'Embarked_C', 'Embarked_Q',\n",
       "       'Embarked_S'],\n",
       "      dtype='object')"
      ]
     },
     "execution_count": 5,
     "metadata": {},
     "output_type": "execute_result"
    }
   ],
   "source": [
    "# features\n",
    "data.columns"
   ]
  },
  {
   "cell_type": "code",
   "execution_count": 6,
   "id": "6f3bd108",
   "metadata": {},
   "outputs": [
    {
     "name": "stdout",
     "output_type": "stream",
     "text": [
      "<class 'pandas.core.frame.DataFrame'>\n",
      "RangeIndex: 891 entries, 0 to 890\n",
      "Data columns (total 25 columns):\n",
      " #   Column      Non-Null Count  Dtype  \n",
      "---  ------      --------------  -----  \n",
      " 0   Survived    891 non-null    int64  \n",
      " 1   Age         891 non-null    float64\n",
      " 2   Fare        891 non-null    float64\n",
      " 3   Pclass_1    891 non-null    int64  \n",
      " 4   Pclass_2    891 non-null    int64  \n",
      " 5   Pclass_3    891 non-null    int64  \n",
      " 6   Sex_female  891 non-null    int64  \n",
      " 7   Sex_male    891 non-null    int64  \n",
      " 8   SibSp_0     891 non-null    int64  \n",
      " 9   SibSp_1     891 non-null    int64  \n",
      " 10  SibSp_2     891 non-null    int64  \n",
      " 11  SibSp_3     891 non-null    int64  \n",
      " 12  SibSp_4     891 non-null    int64  \n",
      " 13  SibSp_5     891 non-null    int64  \n",
      " 14  SibSp_8     891 non-null    int64  \n",
      " 15  Parch_0     891 non-null    int64  \n",
      " 16  Parch_1     891 non-null    int64  \n",
      " 17  Parch_2     891 non-null    int64  \n",
      " 18  Parch_3     891 non-null    int64  \n",
      " 19  Parch_4     891 non-null    int64  \n",
      " 20  Parch_5     891 non-null    int64  \n",
      " 21  Parch_6     891 non-null    int64  \n",
      " 22  Embarked_C  891 non-null    int64  \n",
      " 23  Embarked_Q  891 non-null    int64  \n",
      " 24  Embarked_S  891 non-null    int64  \n",
      "dtypes: float64(2), int64(23)\n",
      "memory usage: 174.1 KB\n"
     ]
    }
   ],
   "source": [
    "# Basic Info\n",
    "data.info()"
   ]
  },
  {
   "cell_type": "markdown",
   "id": "25a3f55d",
   "metadata": {},
   "source": [
    "### Separating Response and predictor"
   ]
  },
  {
   "cell_type": "code",
   "execution_count": 8,
   "id": "58326b53",
   "metadata": {},
   "outputs": [],
   "source": [
    "# Predictor\n",
    "X = data.drop(['Survived'],axis=1)\n",
    "\n",
    "# Response\n",
    "y = data['Survived']"
   ]
  },
  {
   "cell_type": "markdown",
   "id": "61baaeb9",
   "metadata": {},
   "source": [
    "### Creating Training and Testing dataset"
   ]
  },
  {
   "cell_type": "code",
   "execution_count": 10,
   "id": "beaf486f",
   "metadata": {},
   "outputs": [],
   "source": [
    "# import libraries\n",
    "from sklearn.model_selection import train_test_split"
   ]
  },
  {
   "cell_type": "code",
   "execution_count": 11,
   "id": "fe1bae52",
   "metadata": {},
   "outputs": [],
   "source": [
    "# Divide into train and test dataset\n",
    "X_train, X_test, y_train, y_test = train_test_split(X,y,random_state = 101,test_size = 0.3)"
   ]
  },
  {
   "cell_type": "markdown",
   "id": "035bd5ad",
   "metadata": {},
   "source": [
    "## 1. Model1 :: Decision Tree"
   ]
  },
  {
   "cell_type": "code",
   "execution_count": 17,
   "id": "86bc2d8b",
   "metadata": {},
   "outputs": [],
   "source": [
    "# Import libraries\n",
    "from sklearn.tree import DecisionTreeClassifier\n",
    "from sklearn.metrics import accuracy_score"
   ]
  },
  {
   "cell_type": "code",
   "execution_count": 13,
   "id": "f858c7a7",
   "metadata": {},
   "outputs": [],
   "source": [
    "model1 = DecisionTreeClassifier(criterion = 'gini', random_state = 10)"
   ]
  },
  {
   "cell_type": "code",
   "execution_count": 14,
   "id": "eedd7009",
   "metadata": {},
   "outputs": [
    {
     "data": {
      "text/plain": [
       "DecisionTreeClassifier(random_state=10)"
      ]
     },
     "execution_count": 14,
     "metadata": {},
     "output_type": "execute_result"
    }
   ],
   "source": [
    "# fitting the model\n",
    "model1.fit(X_train, y_train)"
   ]
  },
  {
   "cell_type": "code",
   "execution_count": 15,
   "id": "fe0d1725",
   "metadata": {},
   "outputs": [
    {
     "data": {
      "text/plain": [
       "0.9839486356340289"
      ]
     },
     "execution_count": 15,
     "metadata": {},
     "output_type": "execute_result"
    }
   ],
   "source": [
    "# Training Accuracy\n",
    "model1.score(X_train, y_train)"
   ]
  },
  {
   "cell_type": "code",
   "execution_count": 16,
   "id": "89694a2f",
   "metadata": {},
   "outputs": [
    {
     "data": {
      "text/plain": [
       "0.7313432835820896"
      ]
     },
     "execution_count": 16,
     "metadata": {},
     "output_type": "execute_result"
    }
   ],
   "source": [
    "# Testing Accuracy\n",
    "model1.score(X_test, y_test)"
   ]
  },
  {
   "cell_type": "markdown",
   "id": "c989b590",
   "metadata": {},
   "source": [
    "Clearly we can see the model is suffering from overfitting. <br>\n",
    "So to improve the accuracy we can do :<br>\n",
    "    1. Prunning <br>\n",
    "    2. Ensemble Technique"
   ]
  },
  {
   "cell_type": "markdown",
   "id": "27c4f190",
   "metadata": {},
   "source": [
    "## Ensemble Technique"
   ]
  },
  {
   "cell_type": "markdown",
   "id": "e493d243",
   "metadata": {},
   "source": [
    "## 2. Model2 :: Bagging"
   ]
  },
  {
   "cell_type": "code",
   "execution_count": 20,
   "id": "e36535af",
   "metadata": {},
   "outputs": [],
   "source": [
    "# Import the library\n",
    "from sklearn.ensemble import BaggingClassifier"
   ]
  },
  {
   "cell_type": "code",
   "execution_count": 21,
   "id": "6e4ee3c2",
   "metadata": {},
   "outputs": [],
   "source": [
    "model2 = BaggingClassifier(base_estimator = DecisionTreeClassifier(),\n",
    "                          n_estimators = 100,\n",
    "                          max_samples = 0.8,\n",
    "                          bootstrap = True,\n",
    "                          oob_score = True,\n",
    "                          random_state = 10)"
   ]
  },
  {
   "cell_type": "markdown",
   "id": "73be5acd",
   "metadata": {},
   "source": [
    "Hyperparameter of Bagging:\n",
    "1. base_estimator : algorithm use for bagging\n",
    "      * Here we are using Decision Tree\n",
    "2. n_estimators : number of algorithms used\n",
    "      * In this case we are using 100 decision tree algorithm\n",
    "3. max_samples : maximum number of data sampled from training set\n",
    "      * here , 80% training data are used for sampling\n",
    "4. bootstrap : Allows for resampling of training dataset without replacement\n",
    "      * True: Sampling done with replacemeny\n",
    "5. oob_score : Allows to compute model's accuracy after training"
   ]
  },
  {
   "cell_type": "code",
   "execution_count": 22,
   "id": "760d2b4d",
   "metadata": {},
   "outputs": [
    {
     "data": {
      "text/plain": [
       "BaggingClassifier(base_estimator=DecisionTreeClassifier(), max_samples=0.8,\n",
       "                  n_estimators=100, oob_score=True, random_state=10)"
      ]
     },
     "execution_count": 22,
     "metadata": {},
     "output_type": "execute_result"
    }
   ],
   "source": [
    "# Fitting the model\n",
    "model2.fit(X_train, y_train)"
   ]
  },
  {
   "cell_type": "code",
   "execution_count": 23,
   "id": "991bed39",
   "metadata": {},
   "outputs": [
    {
     "data": {
      "text/plain": [
       "0.78330658105939"
      ]
     },
     "execution_count": 23,
     "metadata": {},
     "output_type": "execute_result"
    }
   ],
   "source": [
    "# Out-of-bag Score\n",
    "model2.oob_score_"
   ]
  },
  {
   "cell_type": "code",
   "execution_count": 24,
   "id": "a4bb4cf7",
   "metadata": {},
   "outputs": [
    {
     "data": {
      "text/plain": [
       "0.9807383627608347"
      ]
     },
     "execution_count": 24,
     "metadata": {},
     "output_type": "execute_result"
    }
   ],
   "source": [
    "# Training Accuracy\n",
    "model2.score(X_train, y_train)"
   ]
  },
  {
   "cell_type": "code",
   "execution_count": 25,
   "id": "bf1fc934",
   "metadata": {},
   "outputs": [
    {
     "data": {
      "text/plain": [
       "0.7985074626865671"
      ]
     },
     "execution_count": 25,
     "metadata": {},
     "output_type": "execute_result"
    }
   ],
   "source": [
    "# Testing Accuracy\n",
    "model2.score(X_test, y_test)"
   ]
  },
  {
   "cell_type": "markdown",
   "id": "e39afd2a",
   "metadata": {},
   "source": [
    "## 3. Model3 :: Random Forest"
   ]
  },
  {
   "cell_type": "markdown",
   "id": "b906312e",
   "metadata": {},
   "source": [
    "**Hyperparameters of RandomForest**<br>\n",
    "1. ***n_estimators*** : Number of Trees we are using\n",
    "2. ***Criterion*** : ***['gini' , 'Entropy' , 'log_loss']***\n",
    "3. Hyperparameters at tree level:\n",
    "     *  ***max_features*** : maximum no of features used to split the node in a tree<br>\n",
    "     Code: ***['auto' , 'sqrt' , 'log2' , None-all features , 10 , 20 ]***<br>\n",
    "     e.g., sqrt(n_features), log2(n_features)\n",
    "     *  ***max_depth*** : Depth of each tree(Stopping criteria for the tree) \n",
    "     *  ***min_samples_split*** : Minimum no of samples(obs) required to split an internal node(default : 2)\n",
    "     *  ***min_samples_leaf*** : After the split minimum number of samples required to be at leaf(default : 1)\n",
    "4. ***bootstrap*** : ***['True' : with replacement , 'false']***\n",
    "5. ***oob_score*** : Out-of-bag estimator"
   ]
  },
  {
   "cell_type": "code",
   "execution_count": 26,
   "id": "77d6bd49",
   "metadata": {},
   "outputs": [],
   "source": [
    "# Import library\n",
    "from sklearn.ensemble import RandomForestClassifier"
   ]
  },
  {
   "cell_type": "code",
   "execution_count": 27,
   "id": "629ac5a1",
   "metadata": {},
   "outputs": [],
   "source": [
    "# Create a Object for a Random Forest Classifier\n",
    "model3 = RandomForestClassifier(random_state = 10) # Using default hyperparameter"
   ]
  },
  {
   "cell_type": "code",
   "execution_count": 28,
   "id": "1a20edbd",
   "metadata": {},
   "outputs": [
    {
     "data": {
      "text/plain": [
       "RandomForestClassifier(random_state=10)"
      ]
     },
     "execution_count": 28,
     "metadata": {},
     "output_type": "execute_result"
    }
   ],
   "source": [
    "model3.fit(X_train, y_train)"
   ]
  },
  {
   "cell_type": "code",
   "execution_count": 29,
   "id": "f79919ce",
   "metadata": {},
   "outputs": [
    {
     "data": {
      "text/plain": [
       "0.9839486356340289"
      ]
     },
     "execution_count": 29,
     "metadata": {},
     "output_type": "execute_result"
    }
   ],
   "source": [
    "# Training Accuracy\n",
    "model3.score(X_train, y_train)"
   ]
  },
  {
   "cell_type": "code",
   "execution_count": 30,
   "id": "b77900e2",
   "metadata": {},
   "outputs": [
    {
     "data": {
      "text/plain": [
       "0.7798507462686567"
      ]
     },
     "execution_count": 30,
     "metadata": {},
     "output_type": "execute_result"
    }
   ],
   "source": [
    "# Testing Accuracy\n",
    "model3.score(X_test, y_test)"
   ]
  },
  {
   "cell_type": "code",
   "execution_count": null,
   "id": "9adaa790",
   "metadata": {},
   "outputs": [],
   "source": []
  },
  {
   "cell_type": "code",
   "execution_count": 31,
   "id": "185b9f2f",
   "metadata": {},
   "outputs": [
    {
     "data": {
      "text/plain": [
       "array([0.24321503, 0.23559608, 0.02877441, 0.01537382, 0.04704995,\n",
       "       0.13638433, 0.14762179, 0.01455204, 0.02012748, 0.00514674,\n",
       "       0.00446934, 0.00332842, 0.00119018, 0.00231142, 0.0184192 ,\n",
       "       0.01442888, 0.01196393, 0.00153653, 0.0007272 , 0.00239287,\n",
       "       0.00091879, 0.01676407, 0.00884849, 0.01885901])"
      ]
     },
     "execution_count": 31,
     "metadata": {},
     "output_type": "execute_result"
    }
   ],
   "source": [
    "# Looking at Feature Importance\n",
    "model3.feature_importances_"
   ]
  },
  {
   "cell_type": "code",
   "execution_count": 32,
   "id": "c2b72d97",
   "metadata": {},
   "outputs": [
    {
     "data": {
      "text/plain": [
       "Age           0.243215\n",
       "Fare          0.235596\n",
       "Pclass_1      0.028774\n",
       "Pclass_2      0.015374\n",
       "Pclass_3      0.047050\n",
       "Sex_female    0.136384\n",
       "Sex_male      0.147622\n",
       "SibSp_0       0.014552\n",
       "SibSp_1       0.020127\n",
       "SibSp_2       0.005147\n",
       "SibSp_3       0.004469\n",
       "SibSp_4       0.003328\n",
       "SibSp_5       0.001190\n",
       "SibSp_8       0.002311\n",
       "Parch_0       0.018419\n",
       "Parch_1       0.014429\n",
       "Parch_2       0.011964\n",
       "Parch_3       0.001537\n",
       "Parch_4       0.000727\n",
       "Parch_5       0.002393\n",
       "Parch_6       0.000919\n",
       "Embarked_C    0.016764\n",
       "Embarked_Q    0.008848\n",
       "Embarked_S    0.018859\n",
       "dtype: float64"
      ]
     },
     "execution_count": 32,
     "metadata": {},
     "output_type": "execute_result"
    }
   ],
   "source": [
    "# Feature importance w.r.t each predictor\n",
    "pd.Series(model3.feature_importances_, index = X_train.columns)"
   ]
  },
  {
   "cell_type": "code",
   "execution_count": null,
   "id": "352a892a",
   "metadata": {},
   "outputs": [],
   "source": []
  }
 ],
 "metadata": {
  "kernelspec": {
   "display_name": "Python 3 (ipykernel)",
   "language": "python",
   "name": "python3"
  },
  "language_info": {
   "codemirror_mode": {
    "name": "ipython",
    "version": 3
   },
   "file_extension": ".py",
   "mimetype": "text/x-python",
   "name": "python",
   "nbconvert_exporter": "python",
   "pygments_lexer": "ipython3",
   "version": "3.9.7"
  }
 },
 "nbformat": 4,
 "nbformat_minor": 5
}
